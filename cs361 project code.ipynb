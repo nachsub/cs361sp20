{
 "cells": [
  {
   "cell_type": "code",
   "execution_count": 35,
   "metadata": {
    "scrolled": true
   },
   "outputs": [
    {
     "name": "stdout",
     "output_type": "stream",
     "text": [
      "True theta: [1. 1. 1. 1. 1. 1. 1. 1. 1. 1.]\n"
     ]
    }
   ],
   "source": [
    "import numpy as np\n",
    "import numpy.linalg as la\n",
    "import matplotlib.pyplot as plt\n",
    "\n",
    "dim_theta = 10\n",
    "data_num = 1000\n",
    "scale = .1\n",
    "\n",
    "theta_true = np.ones((dim_theta,1))\n",
    "print('True theta:', theta_true.reshape(-1))\n",
    "\n",
    "A = np.random.uniform(low=-1.0, high=1.0, size=(data_num,dim_theta))\n",
    "y_data = np.matmul(A,theta_true)+np.random.normal(loc=0.0, scale=scale, size=(data_num,1))\n",
    "\n",
    "A_test = np.random.uniform(low=-1.0, high=1.0, size=(50,dim_theta))\n",
    "y_test = np.matmul(A_test,theta_true)+np.random.normal(loc=0.0, scale=scale, size=(50,1))"
   ]
  },
  {
   "cell_type": "code",
   "execution_count": 36,
   "metadata": {},
   "outputs": [
    {
     "name": "stdout",
     "output_type": "stream",
     "text": [
      "Empirical theta [0.99906199 1.00470744 0.99256598 0.99933367 1.01040448 1.00259537\n",
      " 0.98545508 0.99965523 0.99805779 0.99988869]\n"
     ]
    }
   ],
   "source": [
    "\n",
    "'''\n",
    "Hints:\n",
    "1. Use np.matmul() and la.inv() to solve for x in Ax = b.\n",
    "2. Use the defined variable A in Ax = b. Use y_data as b. Use theta_pred as x.\n",
    "'''\n",
    "theta_pred =  np.matmul(np.matmul(la.inv(np.matmul(A.T, A)),A.T), y_data)\n",
    "print('Empirical theta', theta_pred.reshape(-1))"
   ]
  },
  {
   "cell_type": "code",
   "execution_count": 37,
   "metadata": {},
   "outputs": [],
   "source": [
    "batch_size = 1\n",
    "max_iter = 1000\n",
    "lr = 0.001\n",
    "theta_init = np.random.random((10,1)) * 0.1"
   ]
  },
  {
   "cell_type": "code",
   "execution_count": 38,
   "metadata": {},
   "outputs": [],
   "source": [
    "def noisy_val_grad(theta_hat, data_, label_, deg_=2.):\n",
    "    gradient = np.zeros_like(theta_hat)\n",
    "    loss = 0\n",
    "    \n",
    "    for i in range(data_.shape[0]):\n",
    "        x_ = data_[i, :].reshape(-1,1)\n",
    "        y_ = label_[i, 0]\n",
    "        err = np.sum(x_ * theta_hat) - y_\n",
    "        \n",
    "#         print('Not implemented.')\n",
    "\n",
    "        '''\n",
    "        Hints:\n",
    "        1. Find the gradient and loss for each data point x_.\n",
    "        2. For grad, you need err, deg_, and x_.\n",
    "        3. For l, you need err and deg_ only.\n",
    "        '''\n",
    "        grad = np.sign(deg_*abs(err)**(deg_-1)*x_) * (deg_*abs(err)**(deg_-1)*x_)\n",
    "        l = abs(err)**deg_\n",
    "        \n",
    "        loss += l / data_.shape[0]\n",
    "        gradient += grad / data_.shape[0]\n",
    "        \n",
    "    return loss, gradient"
   ]
  },
  {
   "cell_type": "markdown",
   "metadata": {},
   "source": []
  },
  {
   "cell_type": "code",
   "execution_count": 39,
   "metadata": {
    "scrolled": true
   },
   "outputs": [
    {
     "data": {
      "image/png": "[encoded data removed]",
      "text/plain": [
       "<Figure size 720x720 with 1 Axes>"
      ]
     },
     "metadata": {},
     "output_type": "display_data"
    }
   ],
   "source": [
    "deg_ = 2\n",
    "num_rep = 10\n",
    "max_iter = 1000\n",
    "fig, ax = plt.subplots(figsize=(10,10))\n",
    "best_vals = dict()\n",
    "test_exp_interval = 50\n",
    "grad_artificial_normal_noise_scale = 0."
   ]
  },
  {
   "cell_type": "code",
   "execution_count": 40,
   "metadata": {
    "scrolled": true
   },
   "outputs": [
    {
     "name": "stdout",
     "output_type": "stream",
     "text": [
      "adam 0\n",
      "adam done\n",
      "[[-0.43563485]\n",
      " [-0.3232354 ]\n",
      " [-0.25305969]\n",
      " [-0.30426208]\n",
      " [-0.26627923]\n",
      " [-0.3959098 ]\n",
      " [-0.36670003]\n",
      " [-0.35656861]\n",
      " [-0.39783846]\n",
      " [-0.35483586]]\n",
      "test_loss_np is a 2d array with num_rep rows and each column denotes a specific update stage in training\n",
      "The elements of test_loss_np are the test loss values computed in each replicate and training stage.\n",
      "sgd 0\n"
     ]
    },
    {
     "name": "stderr",
     "output_type": "stream",
     "text": [
      "C:\\Users\\nacho\\Anaconda3\\lib\\site-packages\\ipykernel_launcher.py:18: RuntimeWarning: overflow encountered in double_scalars\n",
      "C:\\Users\\nacho\\Anaconda3\\lib\\site-packages\\ipykernel_launcher.py:19: RuntimeWarning: overflow encountered in double_scalars\n",
      "C:\\Users\\nacho\\Anaconda3\\lib\\site-packages\\numpy\\core\\_methods.py:32: RuntimeWarning: invalid value encountered in reduce\n",
      "  return umr_sum(a, axis, dtype, out, keepdims)\n",
      "C:\\Users\\nacho\\Anaconda3\\lib\\site-packages\\ipykernel_launcher.py:18: RuntimeWarning: invalid value encountered in sign\n"
     ]
    },
    {
     "name": "stdout",
     "output_type": "stream",
     "text": [
      "sgd done\n",
      "[[nan]\n",
      " [nan]\n",
      " [nan]\n",
      " [nan]\n",
      " [nan]\n",
      " [nan]\n",
      " [nan]\n",
      " [nan]\n",
      " [nan]\n",
      " [nan]]\n",
      "test_loss_np is a 2d array with num_rep rows and each column denotes a specific update stage in training\n",
      "The elements of test_loss_np are the test loss values computed in each replicate and training stage.\n",
      "adagrad 0\n",
      "adagrad done\n",
      "[[0.01050938]\n",
      " [0.02748065]\n",
      " [0.09842993]\n",
      " [0.08010182]\n",
      " [0.07386349]\n",
      " [0.05478004]\n",
      " [0.04408932]\n",
      " [0.0494155 ]\n",
      " [0.00497005]\n",
      " [0.0102883 ]]\n",
      "test_loss_np is a 2d array with num_rep rows and each column denotes a specific update stage in training\n",
      "The elements of test_loss_np are the test loss values computed in each replicate and training stage.\n"
     ]
    },
    {
     "data": {
      "image/png": "[encoded data removed]",
      "text/plain": [
       "<Figure size 432x288 with 1 Axes>"
      ]
     },
     "metadata": {},
     "output_type": "display_data"
    }
   ],
   "source": [
    "for method_idx, method in enumerate(['adam', 'sgd', 'adagrad']):\n",
    "    test_loss_mat = []\n",
    "    train_loss_mat = []\n",
    "    \n",
    "    for replicate in range(num_rep):\n",
    "        if replicate % 20 == 0:\n",
    "            print(method, replicate)\n",
    "            \n",
    "        if method == 'adam':\n",
    "#             print('Not implemented.')\n",
    "            beta_1 = 0.9\n",
    "            beta_2 = 0.999\n",
    "            m = 0\n",
    "            v = 0\n",
    "            epsilon = 1e-8\n",
    "\n",
    "        if method == 'adagrad':\n",
    "#             print('Not implemented.')\n",
    "            epsilon = 1e-8\n",
    "            squared_sum = 0\n",
    "            \n",
    "        theta_hat = theta_init.copy()\n",
    "        test_loss_list = []\n",
    "        train_loss_list = []\n",
    "        t = 1\n",
    "        for t in range(max_iter):  \n",
    "            idx = np.random.choice(data_num,batch_size)\n",
    "            train_loss, gradient = noisy_val_grad(theta_hat, A[idx,:], y_data[idx,:], deg_=deg_)\n",
    "            artificial_grad_noise = np.random.randn(10,1) * grad_artificial_normal_noise_scale + np.sign(np.random.random((10,1))-0.5) * 0.\n",
    "            gradient = gradient + artificial_grad_noise\n",
    "            train_loss_list.append(train_loss)\n",
    "            \n",
    "            if t % test_exp_interval == 0:\n",
    "                test_loss, _ = noisy_val_grad(theta_hat, A_test[:,:], y_test[:,:], deg_=deg_)\n",
    "                test_loss_list.append(test_loss)                \n",
    "            \n",
    "            if method == 'adam':\n",
    "#                 print('Not implemented.')\n",
    "                t=t+1\n",
    "                m = beta_1*m + (1-beta_1)*(gradient)\n",
    "                v = beta_2*v + (1-beta_2)*(gradient**2)\n",
    "                m_hat = m/(1-beta_1**t)\n",
    "                v_hat = v/(1-beta_2**t)\n",
    "                theta_hat = theta_hat - lr * m_hat/(np.sqrt(v_hat) + epsilon)\n",
    "            \n",
    "#             elif method == 'adagrad':\n",
    "# #                 print('Not implemented.')\n",
    "# #                 squared_sum = squared_sum + gradient**2\n",
    "# #                 theta_hat = theta_hat - (lr/((squared_sum+epsilon)**0.5)) * gradient\n",
    "            \n",
    "            elif method == 'sgd':\n",
    "                theta_hat = theta_hat - lr * gradient\n",
    "        \n",
    "        test_loss_mat.append(test_loss_list)\n",
    "        train_loss_mat.append(train_loss_list)\n",
    "        \n",
    "    print(method, 'done')\n",
    "    print(theta_hat)\n",
    "    x_axis = np.arange(max_iter)[::test_exp_interval]\n",
    "    \n",
    "    print('test_loss_np is a 2d array with num_rep rows and each column denotes a specific update stage in training')\n",
    "    print('The elements of test_loss_np are the test loss values computed in each replicate and training stage.')\n",
    "    test_loss_np = np.array(test_loss_mat)\n",
    "    '''\n",
    "    Hints:\n",
    "    1. Use test_loss_np in np.mean() with axis = 0\n",
    "    '''\n",
    "    test_loss_mean = np.mean(test_loss_np, axis=0)\n",
    "\n",
    "    '''\n",
    "    Hints:\n",
    "    1. Use test_loss_np in np.std() with axis = 0 \n",
    "    2. Divide by np.sqrt() using num_rep as a parameter\n",
    "    '''\n",
    "    test_loss_se = np.std(test_loss_np,axis=0)/num_rep**0.5\n",
    "    plt.errorbar(x_axis, test_loss_mean, yerr=2.5*test_loss_se, label=method)\n",
    "    plt.legend()\n",
    "    best_vals[method] = min(test_loss_mean)"
   ]
  },
  {
   "cell_type": "code",
   "execution_count": 41,
   "metadata": {},
   "outputs": [
    {
     "name": "stderr",
     "output_type": "stream",
     "text": [
      "No handles with labels found to put in legend.\n"
     ]
    },
    {
     "data": {
      "text/plain": [
       "Text(0.5,0,'Updates')"
      ]
     },
     "execution_count": 41,
     "metadata": {},
     "output_type": "execute_result"
    },
    {
     "data": {
      "image/png": "[encoded data removed]",
      "text/plain": [
       "<Figure size 432x288 with 1 Axes>"
      ]
     },
     "metadata": {},
     "output_type": "display_data"
    }
   ],
   "source": [
    "best_vals = {k: int(v*1000)/1000. for k,v in best_vals.items()} # A weird way to round numbers\n",
    "plt.title(f'Test Loss \\n(objective degree: {deg_},  best values: {best_vals})')\n",
    "plt.ylabel('Test Loss')\n",
    "plt.legend()\n",
    "plt.xlabel('Updates')"
   ]
  },
  {
   "cell_type": "code",
   "execution_count": null,
   "metadata": {},
   "outputs": [],
   "source": []
  },
  {
   "cell_type": "code",
   "execution_count": null,
   "metadata": {},
   "outputs": [],
   "source": []
  },
  {
   "cell_type": "code",
   "execution_count": null,
   "metadata": {},
   "outputs": [],
   "source": []
  }
 ],
 "metadata": {
  "kernelspec": {
   "display_name": "Python 3",
   "language": "python",
   "name": "python3"
  },
  "language_info": {
   "codemirror_mode": {
    "name": "ipython",
    "version": 3
   },
   "file_extension": ".py",
   "mimetype": "text/x-python",
   "name": "python",
   "nbconvert_exporter": "python",
   "pygments_lexer": "ipython3",
   "version": "3.6.5"
  }
 },
 "nbformat": 4,
 "nbformat_minor": 2
}
