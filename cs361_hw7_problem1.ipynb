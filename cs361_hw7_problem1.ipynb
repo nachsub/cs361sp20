{
 "cells": [
  {
   "cell_type": "code",
   "execution_count": 46,
   "metadata": {},
   "outputs": [
    {
     "name": "stdout",
     "output_type": "stream",
     "text": [
      "0.545\n",
      "0\n",
      "100\n",
      "200\n",
      "300\n",
      "400\n",
      "500\n",
      "600\n",
      "700\n",
      "800\n",
      "900\n",
      "1000\n",
      "1100\n",
      "1200\n",
      "1300\n",
      "1400\n",
      "1500\n",
      "1600\n",
      "1700\n",
      "1800\n",
      "1900\n",
      "2000\n",
      "2100\n",
      "2200\n",
      "2300\n",
      "2400\n",
      "2500\n",
      "2600\n",
      "2700\n",
      "2800\n",
      "2900\n",
      "3000\n",
      "3100\n",
      "3200\n",
      "3300\n",
      "3400\n",
      "3500\n",
      "3600\n",
      "3700\n",
      "3800\n",
      "3900\n",
      "1.0\n"
     ]
    }
   ],
   "source": [
    "from math import *\n",
    "import numpy as np\n",
    "f = open(\"C:/Users/nacho/Downloads/abalone.data\", \"r\")\n",
    "fl = f.readlines()\n",
    "len_list = []\n",
    "\n",
    "for x in fl:\n",
    "    ar = x.split(',')\n",
    "    len_list.append(float(ar[1]))\n",
    "len_list.sort()\n",
    "pop_median = 0.5*(len_list[2087] + len_list[2088])\n",
    "print(pop_median)\n",
    "hist = 0\n",
    "hist_bootstrap = []\n",
    "count = 0\n",
    "for i in range(0,4000):\n",
    "    mean = 0\n",
    "    stdunbiased = 0\n",
    "    rand_vals = []\n",
    "    cpy = len_list.copy()\n",
    "    for j in range(0,10):\n",
    "        val = cpy[np.random.randint(0,len(cpy))]\n",
    "        rand_vals.append(val)\n",
    "        cpy.remove(val)\n",
    "    repeated_records = []\n",
    "    for rel in range(0,7000):\n",
    "        replicate = []\n",
    "        for j in range(0, 10):\n",
    "            replicate.append(rand_vals[np.random.randint(0,len(rand_vals))])\n",
    "        replicate.sort()\n",
    "        repeated_records.append(replicate)\n",
    "        mean += (replicate[4] + replicate[5])/2\n",
    "        if hist == 0:\n",
    "            hist_bootstrap.append((replicate[4]+replicate[5])/2)\n",
    "    hist = 1\n",
    "    mean = mean/7000\n",
    "    for rel in range(0,7000):\n",
    "        stdunbiased = stdunbiased + (0.5*(repeated_records[rel][4] + repeated_records[rel][5])-mean)**2\n",
    "    stdunbiased = sqrt(stdunbiased/(len(rand_vals) - 1))\n",
    "    stderr = stdunbiased/sqrt(len(rand_vals))\n",
    "    if pop_median < (mean + 1.645*stderr) and pop_median > (mean - 1.645*stderr):  #90% confidence interval\n",
    "            count = count + 1\n",
    "print(count/4000)\n"
   ]
  },
  {
   "cell_type": "code",
   "execution_count": 48,
   "metadata": {},
   "outputs": [
    {
     "name": "stdout",
     "output_type": "stream",
     "text": [
      "4000\n"
     ]
    },
    {
     "data": {
      "image/png": "[encoded data removed]",
      "text/plain": [
       "<Figure size 432x288 with 1 Axes>"
      ]
     },
     "metadata": {},
     "output_type": "display_data"
    }
   ],
   "source": [
    "#plot histogram of replicates\n",
    "from matplotlib import pyplot as plt \n",
    "a= np.array(hist_bootstrap)\n",
    "plt.hist(a)\n",
    "plt.title('Bootstrap sample medians')\n",
    "plt.xlabel('Sample medians')\n",
    "plt.ylabel('Frequency')\n",
    "plt.show()"
   ]
  },
  {
   "cell_type": "code",
   "execution_count": null,
   "metadata": {},
   "outputs": [],
   "source": []
  },
  {
   "cell_type": "code",
   "execution_count": null,
   "metadata": {},
   "outputs": [],
   "source": []
  }
 ],
 "metadata": {
  "kernelspec": {
   "display_name": "Python 3",
   "language": "python",
   "name": "python3"
  },
  "language_info": {
   "codemirror_mode": {
    "name": "ipython",
    "version": 3
   },
   "file_extension": ".py",
   "mimetype": "text/x-python",
   "name": "python",
   "nbconvert_exporter": "python",
   "pygments_lexer": "ipython3",
   "version": "3.6.5"
  }
 },
 "nbformat": 4,
 "nbformat_minor": 2
}
