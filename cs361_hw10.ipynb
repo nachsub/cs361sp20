{
 "cells": [
  {
   "cell_type": "code",
   "execution_count": 8,
   "metadata": {},
   "outputs": [
    {
     "name": "stdout",
     "output_type": "stream",
     "text": [
      "[   b  c  f  k  s  x\n",
      "0  1  0  0  0  0  0\n",
      "1  0  1  0  0  0  0\n",
      "2  0  0  0  0  0  1\n",
      "3  0  0  1  0  0  0\n",
      "4  0  0  0  1  0  0\n",
      "5  0  0  0  0  1  0,    f  g  s  y\n",
      "0  1  0  0  0\n",
      "1  0  1  0  0\n",
      "2  0  0  0  1\n",
      "3  0  0  1  0,    b  c  e  g  n  p  r  u  w  y\n",
      "0  0  0  0  0  1  0  0  0  0  0\n",
      "1  1  0  0  0  0  0  0  0  0  0\n",
      "2  0  1  0  0  0  0  0  0  0  0\n",
      "3  0  0  0  1  0  0  0  0  0  0\n",
      "4  0  0  0  0  0  0  1  0  0  0\n",
      "5  0  0  0  0  0  1  0  0  0  0\n",
      "6  0  0  0  0  0  0  0  1  0  0\n",
      "7  0  0  1  0  0  0  0  0  0  0\n",
      "8  0  0  0  0  0  0  0  0  1  0\n",
      "9  0  0  0  0  0  0  0  0  0  1,    f  t\n",
      "0  0  1\n",
      "1  1  0,    a  c  f  l  m  n  p  s  y\n",
      "0  1  0  0  0  0  0  0  0  0\n",
      "1  0  0  0  1  0  0  0  0  0\n",
      "2  0  1  0  0  0  0  0  0  0\n",
      "3  0  0  0  0  0  0  0  0  1\n",
      "4  0  0  1  0  0  0  0  0  0\n",
      "5  0  0  0  0  1  0  0  0  0\n",
      "6  0  0  0  0  0  1  0  0  0\n",
      "7  0  0  0  0  0  0  1  0  0\n",
      "8  0  0  0  0  0  0  0  1  0,    a  d  f  n\n",
      "0  1  0  0  0\n",
      "1  0  1  0  0\n",
      "2  0  0  1  0\n",
      "3  0  0  0  1,    c  d  w\n",
      "0  1  0  0\n",
      "1  0  0  1\n",
      "2  0  1  0,    b  n\n",
      "0  1  0\n",
      "1  0  1,     b  e  g  h  k  n  o  p  r  u  w  y\n",
      "0   0  0  0  0  1  0  0  0  0  0  0  0\n",
      "1   0  0  0  0  0  1  0  0  0  0  0  0\n",
      "2   1  0  0  0  0  0  0  0  0  0  0  0\n",
      "3   0  0  0  1  0  0  0  0  0  0  0  0\n",
      "4   0  0  1  0  0  0  0  0  0  0  0  0\n",
      "5   0  0  0  0  0  0  0  0  1  0  0  0\n",
      "6   0  0  0  0  0  0  1  0  0  0  0  0\n",
      "7   0  0  0  0  0  0  0  1  0  0  0  0\n",
      "8   0  0  0  0  0  0  0  0  0  1  0  0\n",
      "9   0  1  0  0  0  0  0  0  0  0  0  0\n",
      "10  0  0  0  0  0  0  0  0  0  0  1  0\n",
      "11  0  0  0  0  0  0  0  0  0  0  0  1,    e  t\n",
      "0  1  0\n",
      "1  0  1,    ?  b  c  e  r  u  z\n",
      "0  0  1  0  0  0  0  0\n",
      "1  0  0  1  0  0  0  0\n",
      "2  0  0  0  0  0  1  0\n",
      "3  0  0  0  1  0  0  0\n",
      "4  0  0  0  0  0  0  1\n",
      "5  0  0  0  0  1  0  0\n",
      "6  1  0  0  0  0  0  0,    f  k  s  y\n",
      "0  1  0  0  0\n",
      "1  0  0  0  1\n",
      "2  0  1  0  0\n",
      "3  0  0  1  0,    f  k  s  y\n",
      "0  1  0  0  0\n",
      "1  0  0  0  1\n",
      "2  0  1  0  0\n",
      "3  0  0  1  0,    b  c  e  g  n  o  p  w  y\n",
      "0  0  0  0  0  1  0  0  0  0\n",
      "1  1  0  0  0  0  0  0  0  0\n",
      "2  0  1  0  0  0  0  0  0  0\n",
      "3  0  0  0  1  0  0  0  0  0\n",
      "4  0  0  0  0  0  1  0  0  0\n",
      "5  0  0  0  0  0  0  1  0  0\n",
      "6  0  0  1  0  0  0  0  0  0\n",
      "7  0  0  0  0  0  0  0  1  0\n",
      "8  0  0  0  0  0  0  0  0  1,    b  c  e  g  n  o  p  w  y\n",
      "0  0  0  0  0  1  0  0  0  0\n",
      "1  1  0  0  0  0  0  0  0  0\n",
      "2  0  1  0  0  0  0  0  0  0\n",
      "3  0  0  0  1  0  0  0  0  0\n",
      "4  0  0  0  0  0  1  0  0  0\n",
      "5  0  0  0  0  0  0  1  0  0\n",
      "6  0  0  1  0  0  0  0  0  0\n",
      "7  0  0  0  0  0  0  0  1  0\n",
      "8  0  0  0  0  0  0  0  0  1,    p  u\n",
      "0  1  0\n",
      "1  0  1,    n  o  w  y\n",
      "0  1  0  0  0\n",
      "1  0  1  0  0\n",
      "2  0  0  1  0\n",
      "3  0  0  0  1,    n  o  t\n",
      "0  1  0  0\n",
      "1  0  1  0\n",
      "2  0  0  1,    c  e  f  l  n  p  s  z\n",
      "0  1  0  0  0  0  0  0  0\n",
      "1  0  1  0  0  0  0  0  0\n",
      "2  0  0  1  0  0  0  0  0\n",
      "3  0  0  0  1  0  0  0  0\n",
      "4  0  0  0  0  1  0  0  0\n",
      "5  0  0  0  0  0  1  0  0\n",
      "6  0  0  0  0  0  0  1  0\n",
      "7  0  0  0  0  0  0  0  1,    b  h  k  n  o  r  u  w  y\n",
      "0  0  0  1  0  0  0  0  0  0\n",
      "1  0  0  0  1  0  0  0  0  0\n",
      "2  1  0  0  0  0  0  0  0  0\n",
      "3  0  1  0  0  0  0  0  0  0\n",
      "4  0  0  0  0  0  1  0  0  0\n",
      "5  0  0  0  0  1  0  0  0  0\n",
      "6  0  0  0  0  0  0  1  0  0\n",
      "7  0  0  0  0  0  0  0  1  0\n",
      "8  0  0  0  0  0  0  0  0  1,    a  c  n  s  v  y\n",
      "0  1  0  0  0  0  0\n",
      "1  0  1  0  0  0  0\n",
      "2  0  0  1  0  0  0\n",
      "3  0  0  0  1  0  0\n",
      "4  0  0  0  0  1  0\n",
      "5  0  0  0  0  0  1,    d  g  l  m  p  u  w\n",
      "0  0  1  0  0  0  0  0\n",
      "1  0  0  1  0  0  0  0\n",
      "2  0  0  0  1  0  0  0\n",
      "3  0  0  0  0  1  0  0\n",
      "4  0  0  0  0  0  1  0\n",
      "5  0  0  0  0  0  0  1\n",
      "6  1  0  0  0  0  0  0]\n",
      "22\n"
     ]
    }
   ],
   "source": [
    "from sklearn.model_selection import train_test_split\n",
    "from sklearn.metrics import confusion_matrix\n",
    "import pandas as pd\n",
    "f = open('C:/Users/nacho/Downloads/agaricus-lepiota.data','r')\n",
    "f_names = open('C:/Users/nacho/Downloads/agaricus-lepiota.names','r')\n",
    "\n",
    "fn = f_names.readlines()\n",
    "categorical_data = [['b','c','x','f','k','s'], \n",
    "           ['f','g','y','s'], \n",
    "           ['n','b','c','g','r','p','u','e','w','y'],\n",
    "           ['t','f'],\n",
    "           ['a','l','c','y','f','m','n','p','s'],\n",
    "           ['a','d','f','n'],\n",
    "           ['c','w','d'],\n",
    "           ['b','n'],\n",
    "           ['k','n','b','h','g','r','o','p','u','e','w','y'],\n",
    "           ['e','t'],\n",
    "           ['b','c','u','e','z','r','?'],\n",
    "           ['f','y','k','s'],\n",
    "           ['f','y','k','s'],\n",
    "           ['n','b','c','g','o','p','e','w','y'],\n",
    "           ['n','b','c','g','o','p','e','w','y'],\n",
    "           ['p','u'],\n",
    "           ['n','o','w','y'],\n",
    "           ['n','o','t'],\n",
    "           ['c','e','f','l','n','p','s','z'],\n",
    "           ['k','n','b','h','r','o','u','w','y'],\n",
    "           ['a','c','n','s','v','y'],\n",
    "           ['g','l','m','p','u','w','d']]\n",
    "nominals= []\n",
    "for i in categorical_data:\n",
    "    s = pd.get_dummies(i)\n",
    "    nominals.append(s)\n",
    "print(nominals)\n",
    "print(len(nominals))\n"
   ]
  },
  {
   "cell_type": "code",
   "execution_count": 9,
   "metadata": {},
   "outputs": [
    {
     "name": "stdout",
     "output_type": "stream",
     "text": [
      "6499\n",
      "1625\n"
     ]
    }
   ],
   "source": [
    "fl = f.readlines()\n",
    "data = []\n",
    "y = []\n",
    "ord_codes = []\n",
    "count = 0\n",
    "for i in range(0,len(fl)):\n",
    "    line = fl[i].split(',')\n",
    "    if (line[0] == 'p'):\n",
    "        y.append('p')\n",
    "    else:\n",
    "        y.append('e')\n",
    "    line[len(line)-1] = line[len(line)-1].rstrip('\\n')\n",
    "    vec= []\n",
    "    vect = []\n",
    "    for j in range(1, len(line)):\n",
    "        count = 0\n",
    "        noms = nominals[j-1]\n",
    "        if ('\\n' in line[j]):\n",
    "            line[j] =line[j].replace('\\n','')\n",
    "        ords = [noms.loc[m,line[j]] for m in range(0,len(noms))]\n",
    "        #codes,uniques = pd.factorize(ords)\n",
    "        vect.append(ords.index(1))\n",
    "        vec.append(ords)\n",
    "    ord_codes.append(vect)\n",
    "    data.append(vec)\n",
    "# for i in range(0,len(data)):\n",
    "#     print(data[i])\n",
    "#     print('\\n')\n",
    "#     print(y[i])\n",
    "#     print('\\n')\n",
    "#     print(i)\n",
    "#     print('\\n')\n",
    "# X = [['cap-shape'],['cap-surface'],['cap-color'],['bruises?'], ['odor'],['gill-attachment'], ['gill-spacing'], ['gill-size'], ['gill-color'],['stalk-shape'],['stalk-root'],['stalk-surface-above-ring'],['stalk-surface-below-ring'],['stalk-color-above-ring'],['stalk-color-below-ring'],['veil-type'],['veil-color'],['ring-number'],['ring-type'],['spore-print-color'],['population'],['habitat']]\n",
    "codes,uniques = pd.factorize(y)\n",
    "ts = 0.2\n",
    "X_train, X_test, Y_train, Y_test = train_test_split(ord_codes, codes,test_size=ts,random_state=42) \n",
    "num = int(len(y) - len(y)*ts)\n",
    "print(num)\n",
    "print(len(X_test))\n",
    "# for i in range(0,len(X_test)):\n",
    "#     if (X_test[i] != data[i]):\n",
    "#         print(\"Error x_test\")\n",
    "#confusion_matrix(codes[num:len(y)], Y_test)"
   ]
  },
  {
   "cell_type": "code",
   "execution_count": 10,
   "metadata": {},
   "outputs": [
    {
     "name": "stdout",
     "output_type": "stream",
     "text": [
      "1.0\n"
     ]
    }
   ],
   "source": [
    "from sklearn import tree\n",
    "clf = tree.DecisionTreeClassifier()\n",
    "clf = clf.fit(X_train, Y_train)\n",
    "ar = clf.predict(X_test)\n",
    "accuracy = 0\n",
    "for i in range(0, len(Y_test)):\n",
    "    if (Y_test[i] == ar[i]):\n",
    "        accuracy = accuracy + 1\n",
    "print(accuracy/len(Y_test))"
   ]
  },
  {
   "cell_type": "code",
   "execution_count": 11,
   "metadata": {},
   "outputs": [
    {
     "data": {
      "text/plain": [
       "array([[782,   0],\n",
       "       [  0, 843]], dtype=int64)"
      ]
     },
     "execution_count": 11,
     "metadata": {},
     "output_type": "execute_result"
    }
   ],
   "source": [
    "confusion_matrix(Y_test, ar)"
   ]
  },
  {
   "cell_type": "code",
   "execution_count": 265,
   "metadata": {},
   "outputs": [
    {
     "name": "stdout",
     "output_type": "stream",
     "text": [
      "[0 1 1 ... 1 0 1]\n"
     ]
    }
   ],
   "source": [
    "print(codes)"
   ]
  },
  {
   "cell_type": "code",
   "execution_count": null,
   "metadata": {},
   "outputs": [],
   "source": []
  }
 ],
 "metadata": {
  "kernelspec": {
   "display_name": "Python 3",
   "language": "python",
   "name": "python3"
  },
  "language_info": {
   "codemirror_mode": {
    "name": "ipython",
    "version": 3
   },
   "file_extension": ".py",
   "mimetype": "text/x-python",
   "name": "python",
   "nbconvert_exporter": "python",
   "pygments_lexer": "ipython3",
   "version": "3.6.5"
  }
 },
 "nbformat": 4,
 "nbformat_minor": 2
}
